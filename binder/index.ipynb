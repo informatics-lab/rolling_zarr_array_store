{
 "cells": [
  {
   "cell_type": "code",
   "execution_count": 1,
   "metadata": {},
   "outputs": [
    {
     "name": "stdout",
     "output_type": "stream",
     "text": [
      "Solving environment: done\n",
      "\n",
      "\n",
      "==> WARNING: A newer version of conda exists. <==\n",
      "  current version: 4.5.4\n",
      "  latest version: 4.6.7\n",
      "\n",
      "Please update conda by running\n",
      "\n",
      "    $ conda update -n base conda\n",
      "\n",
      "\n",
      "\n",
      "## Package Plan ##\n",
      "\n",
      "  environment location: /opt/conda\n",
      "\n",
      "  added / updated specs: \n",
      "    - rolling_zarr_array_store\n",
      "\n",
      "\n",
      "The following packages will be downloaded:\n",
      "\n",
      "    package                    |            build\n",
      "    ---------------------------|-----------------\n",
      "    psycopg2-2.7.6.1           |   py36h1ba5d50_0         309 KB  defaults\n",
      "    libgdal-2.3.3              |       h2e7e64b_0        17.7 MB  defaults\n",
      "    libuuid-1.0.3              |                1          34 KB  conda-forge\n",
      "    cryptography-2.5           |   py36h9d9f1b6_1         640 KB  conda-forge\n",
      "    tzcode-2018g               |    h14c3975_1001         427 KB  conda-forge\n",
      "    pango-1.40.14              |       he752989_2         527 KB  conda-forge\n",
      "    libcurl-7.64.0             |       h541490c_2         573 KB  conda-forge\n",
      "    tk-8.6.9                   |    h84994c4_1000         3.1 MB  conda-forge\n",
      "    curl-7.64.0                |       h646f8bb_2         143 KB  conda-forge\n",
      "    krb5-1.16.3                |    h05b26f9_1001         1.4 MB  conda-forge\n",
      "    fiona-1.8.4                |py36heb36068_1001         994 KB  conda-forge\n",
      "    python-3.6.7               |    h381d211_1004        34.5 MB  conda-forge\n",
      "    util-linux-2.21            |                0          35 KB  defaults\n",
      "    rasterio-1.0.13            |   py36h54a03ab_0        11.5 MB  conda-forge\n",
      "    rolling_zarr_array_store-0.0.3|             py_0           6 KB  informaticslab\n",
      "    openssl-1.1.1b             |       h14c3975_0         4.0 MB  conda-forge\n",
      "    gdal-2.3.3                 |   py36hbb2a789_0         1.3 MB  defaults\n",
      "    expat-2.2.6                |       he6710b0_0         187 KB  defaults\n",
      "    libssh2-1.8.0              |    h90d6eec_1004         245 KB  conda-forge\n",
      "    postgresql-11.2            |       h61314c7_0         4.9 MB  conda-forge\n",
      "    libpq-11.2                 |       h4770945_0         2.4 MB  conda-forge\n",
      "    libdap4-3.19.1             |                0        15.6 MB  conda-forge\n",
      "    xorg-libsm-1.2.2           |       h470a237_5          24 KB  conda-forge\n",
      "    qt-5.9.7                   |       h5867ecd_1        85.9 MB  defaults\n",
      "    ------------------------------------------------------------\n",
      "                                           Total:       186.4 MB\n",
      "\n",
      "The following NEW packages will be INSTALLED:\n",
      "\n",
      "    rolling_zarr_array_store: 0.0.3-py_0                informaticslab\n",
      "    tzcode:                   2018g-h14c3975_1001       conda-forge   \n",
      "    util-linux:               2.21-0                    defaults      \n",
      "\n",
      "The following packages will be UPDATED:\n",
      "\n",
      "    cryptography:             2.5-py36hb7f436b_1        conda-forge    --> 2.5-py36h9d9f1b6_1      conda-forge\n",
      "    curl:                     7.61.0-h84994c4_0         defaults       --> 7.64.0-h646f8bb_2       conda-forge\n",
      "    expat:                    2.2.5-he0dffb1_0          defaults       --> 2.2.6-he6710b0_0        defaults   \n",
      "    krb5:                     1.16.1-hbb41f41_0         conda-forge    --> 1.16.3-h05b26f9_1001    conda-forge\n",
      "    libcurl:                  7.61.0-h1ad7b7a_0         defaults       --> 7.64.0-h541490c_2       conda-forge\n",
      "    libpq:                    10.5-h13b8bad_1000        conda-forge    --> 11.2-h4770945_0         conda-forge\n",
      "    libssh2:                  1.8.0-h9cfc8f7_4          defaults       --> 1.8.0-h90d6eec_1004     conda-forge\n",
      "    openssl:                  1.0.2r-h14c3975_0         conda-forge    --> 1.1.1b-h14c3975_0       conda-forge\n",
      "    postgresql:               10.5-h66cca7a_1000        conda-forge    --> 11.2-h61314c7_0         conda-forge\n",
      "    python:                   3.6.3-h1284df2_4          defaults       --> 3.6.7-h381d211_1004     conda-forge\n",
      "    qt:                       5.9.6-h52aff34_0          defaults       --> 5.9.7-h5867ecd_1        defaults   \n",
      "    tk:                       8.6.7-0                   conda-forge    --> 8.6.9-h84994c4_1000     conda-forge\n",
      "\n",
      "The following packages will be DOWNGRADED:\n",
      "\n",
      "    fiona:                    1.8.4-py36h1c6dbfb_1002   conda-forge    --> 1.8.4-py36heb36068_1001 conda-forge\n",
      "    fontconfig:               2.13.1-h2176d3f_1000      conda-forge    --> 2.13.0-h9420a91_0       defaults   \n",
      "    gdal:                     2.4.0-py36h1c6dbfb_1002   conda-forge    --> 2.3.3-py36hbb2a789_0    defaults   \n",
      "    libdap4:                  3.19.1-hd48c02d_1000      conda-forge    --> 3.19.1-0                conda-forge\n",
      "    libgdal:                  2.4.0-h982c1cc_1002       conda-forge    --> 2.3.3-h2e7e64b_0        defaults   \n",
      "    libuuid:                  2.32.1-h14c3975_1000      conda-forge    --> 1.0.3-1                 conda-forge\n",
      "    pango:                    1.40.14-hf0c64fd_1003     conda-forge    --> 1.40.14-he752989_2      conda-forge\n",
      "    psycopg2:                 2.7.6.1-py36hb7f436b_1000 conda-forge    --> 2.7.6.1-py36h1ba5d50_0  defaults   \n",
      "    rasterio:                 1.0.21-py36h286bbcc_0     conda-forge    --> 1.0.13-py36h54a03ab_0   conda-forge\n",
      "    xorg-libsm:               1.2.3-h4937e3b_1000       conda-forge    --> 1.2.2-h470a237_5        conda-forge\n",
      "\n",
      "\n",
      "Downloading and Extracting Packages\n",
      "psycopg2-2.7.6.1     |  309 KB | ####################################### | 100% \n",
      "libgdal-2.3.3        | 17.7 MB | ####################################### | 100% \n",
      "libuuid-1.0.3        |   34 KB | ####################################### | 100% \n",
      "cryptography-2.5     |  640 KB | ####################################### | 100% \n",
      "tzcode-2018g         |  427 KB | ####################################### | 100% \n",
      "pango-1.40.14        |  527 KB | ####################################### | 100% \n",
      "libcurl-7.64.0       |  573 KB | ####################################### | 100% \n",
      "tk-8.6.9             |  3.1 MB | ####################################### | 100% \n",
      "curl-7.64.0          |  143 KB | ####################################### | 100% \n",
      "krb5-1.16.3          |  1.4 MB | ####################################### | 100% \n",
      "fiona-1.8.4          |  994 KB | ####################################### | 100% \n",
      "python-3.6.7         | 34.5 MB | ####################################### | 100% \n",
      "util-linux-2.21      |   35 KB | ####################################### | 100% \n",
      "rasterio-1.0.13      | 11.5 MB | ####################################### | 100% \n",
      "rolling_zarr_array_s |    6 KB | ####################################### | 100% \n",
      "openssl-1.1.1b       |  4.0 MB | ####################################### | 100% \n",
      "gdal-2.3.3           |  1.3 MB | ####################################### | 100% \n",
      "expat-2.2.6          |  187 KB | ####################################### | 100% \n",
      "libssh2-1.8.0        |  245 KB | ####################################### | 100% \n",
      "postgresql-11.2      |  4.9 MB | ####################################### | 100% \n",
      "libpq-11.2           |  2.4 MB | ####################################### | 100% \n",
      "libdap4-3.19.1       | 15.6 MB | ####################################### | 100% \n",
      "xorg-libsm-1.2.2     |   24 KB | ####################################### | 100% \n",
      "qt-5.9.7             | 85.9 MB | ####################################### | 100% \n",
      "Preparing transaction: done\n",
      "Verifying transaction: done\n",
      "Executing transaction: done\n"
     ]
    }
   ],
   "source": [
    "!conda install -c informaticslab rolling_zarr_array_store -y"
   ]
  },
  {
   "cell_type": "code",
   "execution_count": 14,
   "metadata": {},
   "outputs": [],
   "source": [
    "import rolling_zarr_array_store\n",
    "import s3fs\n",
    "import zarr\n",
    "from bokeh.plotting import figure, output_notebook, show\n",
    "output_notebook()\n",
    "\n",
    "ZARR_PATH = \"informatics-lab-rolling-zarr-demo/mo-atmospheric-mogreps-uk-prd-air_temperature-at_heights.zarr/air_temperature\""
   ]
  },
  {
   "cell_type": "code",
   "execution_count": 16,
   "metadata": {},
   "outputs": [],
   "source": [
    "class MyS3OffsetStore(rolling_zarr_array_store.OffsetArrayStoreMixin, s3fs.S3Map):\n",
    "    pass"
   ]
  },
  {
   "cell_type": "code",
   "execution_count": 17,
   "metadata": {},
   "outputs": [
    {
     "data": {
      "text/plain": [
       "<zarr.core.Array (20, 55, 12, 33, 970, 1042) float32>"
      ]
     },
     "execution_count": 17,
     "metadata": {},
     "output_type": "execute_result"
    }
   ],
   "source": [
    "store = MyS3OffsetStore(root=zarr_path)\n",
    "data = zarr.open(store)\n",
    "data"
   ]
  },
  {
   "cell_type": "code",
   "execution_count": 44,
   "metadata": {},
   "outputs": [],
   "source": [
    "y = data[-1,:,5,10,100,100].tolist()\n",
    "x = list(range(len(y)))"
   ]
  },
  {
   "cell_type": "code",
   "execution_count": 45,
   "metadata": {},
   "outputs": [
    {
     "data": {
      "text/html": [
       "\n",
       "\n",
       "\n",
       "\n",
       "\n",
       "\n",
       "  <div class=\"bk-root\" id=\"de125455-f1a4-4cf7-98c6-661e8b2cace7\"></div>\n"
      ]
     },
     "metadata": {},
     "output_type": "display_data"
    },
    {
     "data": {
      "application/javascript": [
       "(function(root) {\n",
       "  function embed_document(root) {\n",
       "    \n",
       "  var docs_json = {\"0e3e1d68-10af-4bae-951b-bb3ca745206d\":{\"roots\":{\"references\":[{\"attributes\":{},\"id\":\"f9e8b58f-7001-4140-88e8-21379d4242a2\",\"type\":\"BasicTicker\"},{\"attributes\":{},\"id\":\"f89a9161-4cca-454f-b5c6-1d6a67a14d1e\",\"type\":\"WheelZoomTool\"},{\"attributes\":{\"overlay\":{\"id\":\"21943a95-a86f-47dd-ab08-ef25d1e173ea\",\"type\":\"BoxAnnotation\"}},\"id\":\"106040e7-68b5-4c67-a576-b27b784c5e93\",\"type\":\"BoxZoomTool\"},{\"attributes\":{\"line_alpha\":0.1,\"line_color\":\"#1f77b4\",\"line_width\":2,\"x\":{\"field\":\"x\"},\"y\":{\"field\":\"y\"}},\"id\":\"713c186f-78ae-4963-a0a8-421e8d9978e5\",\"type\":\"Line\"},{\"attributes\":{},\"id\":\"9d923bc9-9a64-4a5f-9f40-bd9a24e43e18\",\"type\":\"LinearScale\"},{\"attributes\":{\"callback\":null,\"data\":{\"x\":[0,1,2,3,4,5,6,7,8,9,10,11,12,13,14,15,16,17,18,19,20,21,22,23,24,25,26,27,28,29,30,31,32,33,34,35,36,37,38,39,40,41,42,43,44,45,46,47,48,49,50,51,52,53,54],\"y\":[287.0,286.5625,285.5625,285.3125,285.0,284.9375,285.3125,285.375,285.4375,285.625,285.625,285.5625,285.4375,285.3125,285.3125,284.875,284.75,284.8125,285.0,284.9375,284.875,284.8125,284.9375,285.25,285.0,283.4375,284.6875,284.8125,284.375,284.375,284.3125,283.9375,284.0625,283.875,283.75,283.5625,282.875,282.8125,282.625,282.375,282.125,281.75,283.125,285.625,287.6875,286.9375,286.625,284.875,284.0,283.75,282.6875,282.6875,283.1875,283.6875,283.625]},\"selected\":{\"id\":\"18ff45c4-8af6-4eb3-bb09-ac421b029b42\",\"type\":\"Selection\"},\"selection_policy\":{\"id\":\"8b62f3d9-305f-404f-92b6-0738705b53a6\",\"type\":\"UnionRenderers\"}},\"id\":\"759f68d2-d6c0-4fb4-8681-4760c7e5c746\",\"type\":\"ColumnDataSource\"},{\"attributes\":{\"formatter\":{\"id\":\"0a89529a-2f85-47cf-b210-57b6ce1b2110\",\"type\":\"BasicTickFormatter\"},\"plot\":{\"id\":\"10e2b89d-3548-4a7f-ad48-860210e13fcc\",\"subtype\":\"Figure\",\"type\":\"Plot\"},\"ticker\":{\"id\":\"f9e8b58f-7001-4140-88e8-21379d4242a2\",\"type\":\"BasicTicker\"}},\"id\":\"c88c537a-0276-4a2e-84d2-4952eb3f46c3\",\"type\":\"LinearAxis\"},{\"attributes\":{\"formatter\":{\"id\":\"37ef1d39-2c6f-42cc-9388-ca9ef1dc4111\",\"type\":\"BasicTickFormatter\"},\"plot\":{\"id\":\"10e2b89d-3548-4a7f-ad48-860210e13fcc\",\"subtype\":\"Figure\",\"type\":\"Plot\"},\"ticker\":{\"id\":\"bd527b2b-03cc-4c62-9664-559547bf6416\",\"type\":\"BasicTicker\"}},\"id\":\"4b1a193a-fa43-4bd5-bef1-544c54c075d8\",\"type\":\"LinearAxis\"},{\"attributes\":{\"data_source\":{\"id\":\"759f68d2-d6c0-4fb4-8681-4760c7e5c746\",\"type\":\"ColumnDataSource\"},\"glyph\":{\"id\":\"35cd1864-25e4-4876-8e30-43fb8f861b86\",\"type\":\"Line\"},\"hover_glyph\":null,\"muted_glyph\":null,\"nonselection_glyph\":{\"id\":\"713c186f-78ae-4963-a0a8-421e8d9978e5\",\"type\":\"Line\"},\"selection_glyph\":null,\"view\":{\"id\":\"7cbf5504-71ee-4898-9fc5-c27aa6c9a8b5\",\"type\":\"CDSView\"}},\"id\":\"e1d3a15f-05db-499d-88aa-3b1c35f1f0a6\",\"type\":\"GlyphRenderer\"},{\"attributes\":{\"plot\":null,\"text\":\"\"},\"id\":\"58fa4699-7f9e-4952-a115-ccb83c9063fd\",\"type\":\"Title\"},{\"attributes\":{},\"id\":\"8b62f3d9-305f-404f-92b6-0738705b53a6\",\"type\":\"UnionRenderers\"},{\"attributes\":{},\"id\":\"37ef1d39-2c6f-42cc-9388-ca9ef1dc4111\",\"type\":\"BasicTickFormatter\"},{\"attributes\":{\"plot\":{\"id\":\"10e2b89d-3548-4a7f-ad48-860210e13fcc\",\"subtype\":\"Figure\",\"type\":\"Plot\"},\"ticker\":{\"id\":\"bd527b2b-03cc-4c62-9664-559547bf6416\",\"type\":\"BasicTicker\"}},\"id\":\"307d6b52-0ad3-4446-8084-b269db9a59da\",\"type\":\"Grid\"},{\"attributes\":{\"bottom_units\":\"screen\",\"fill_alpha\":{\"value\":0.5},\"fill_color\":{\"value\":\"lightgrey\"},\"left_units\":\"screen\",\"level\":\"overlay\",\"line_alpha\":{\"value\":1.0},\"line_color\":{\"value\":\"black\"},\"line_dash\":[4,4],\"line_width\":{\"value\":2},\"plot\":null,\"render_mode\":\"css\",\"right_units\":\"screen\",\"top_units\":\"screen\"},\"id\":\"21943a95-a86f-47dd-ab08-ef25d1e173ea\",\"type\":\"BoxAnnotation\"},{\"attributes\":{},\"id\":\"bd527b2b-03cc-4c62-9664-559547bf6416\",\"type\":\"BasicTicker\"},{\"attributes\":{\"line_color\":\"#1f77b4\",\"line_width\":2,\"x\":{\"field\":\"x\"},\"y\":{\"field\":\"y\"}},\"id\":\"35cd1864-25e4-4876-8e30-43fb8f861b86\",\"type\":\"Line\"},{\"attributes\":{},\"id\":\"18ff45c4-8af6-4eb3-bb09-ac421b029b42\",\"type\":\"Selection\"},{\"attributes\":{},\"id\":\"2c761442-33e7-4582-93e3-a6cb18215b4a\",\"type\":\"PanTool\"},{\"attributes\":{\"dimension\":1,\"plot\":{\"id\":\"10e2b89d-3548-4a7f-ad48-860210e13fcc\",\"subtype\":\"Figure\",\"type\":\"Plot\"},\"ticker\":{\"id\":\"f9e8b58f-7001-4140-88e8-21379d4242a2\",\"type\":\"BasicTicker\"}},\"id\":\"6ec54763-26f6-44d9-93dc-7955ee74799e\",\"type\":\"Grid\"},{\"attributes\":{},\"id\":\"30b81003-bda6-4ff4-a50c-327a943b5ca2\",\"type\":\"ResetTool\"},{\"attributes\":{\"source\":{\"id\":\"759f68d2-d6c0-4fb4-8681-4760c7e5c746\",\"type\":\"ColumnDataSource\"}},\"id\":\"7cbf5504-71ee-4898-9fc5-c27aa6c9a8b5\",\"type\":\"CDSView\"},{\"attributes\":{\"active_drag\":\"auto\",\"active_inspect\":\"auto\",\"active_multi\":null,\"active_scroll\":\"auto\",\"active_tap\":\"auto\",\"tools\":[{\"id\":\"2c761442-33e7-4582-93e3-a6cb18215b4a\",\"type\":\"PanTool\"},{\"id\":\"f89a9161-4cca-454f-b5c6-1d6a67a14d1e\",\"type\":\"WheelZoomTool\"},{\"id\":\"106040e7-68b5-4c67-a576-b27b784c5e93\",\"type\":\"BoxZoomTool\"},{\"id\":\"ef0ea501-3f2f-4de8-9121-56559e1cf0c8\",\"type\":\"SaveTool\"},{\"id\":\"30b81003-bda6-4ff4-a50c-327a943b5ca2\",\"type\":\"ResetTool\"},{\"id\":\"4accd91d-4c97-4c10-b59a-6f9afd495980\",\"type\":\"HelpTool\"}]},\"id\":\"1e41b91f-f264-47d6-97cf-4100e3db07ab\",\"type\":\"Toolbar\"},{\"attributes\":{\"callback\":null},\"id\":\"7d3a6de2-c547-4709-91fa-148ef06dbefb\",\"type\":\"DataRange1d\"},{\"attributes\":{},\"id\":\"ef0ea501-3f2f-4de8-9121-56559e1cf0c8\",\"type\":\"SaveTool\"},{\"attributes\":{},\"id\":\"0a89529a-2f85-47cf-b210-57b6ce1b2110\",\"type\":\"BasicTickFormatter\"},{\"attributes\":{},\"id\":\"4accd91d-4c97-4c10-b59a-6f9afd495980\",\"type\":\"HelpTool\"},{\"attributes\":{},\"id\":\"57c14ffe-3f02-4b88-a6e8-109f1a3617c7\",\"type\":\"LinearScale\"},{\"attributes\":{\"below\":[{\"id\":\"4b1a193a-fa43-4bd5-bef1-544c54c075d8\",\"type\":\"LinearAxis\"}],\"left\":[{\"id\":\"c88c537a-0276-4a2e-84d2-4952eb3f46c3\",\"type\":\"LinearAxis\"}],\"plot_height\":400,\"plot_width\":400,\"renderers\":[{\"id\":\"4b1a193a-fa43-4bd5-bef1-544c54c075d8\",\"type\":\"LinearAxis\"},{\"id\":\"307d6b52-0ad3-4446-8084-b269db9a59da\",\"type\":\"Grid\"},{\"id\":\"c88c537a-0276-4a2e-84d2-4952eb3f46c3\",\"type\":\"LinearAxis\"},{\"id\":\"6ec54763-26f6-44d9-93dc-7955ee74799e\",\"type\":\"Grid\"},{\"id\":\"21943a95-a86f-47dd-ab08-ef25d1e173ea\",\"type\":\"BoxAnnotation\"},{\"id\":\"e1d3a15f-05db-499d-88aa-3b1c35f1f0a6\",\"type\":\"GlyphRenderer\"}],\"title\":{\"id\":\"58fa4699-7f9e-4952-a115-ccb83c9063fd\",\"type\":\"Title\"},\"toolbar\":{\"id\":\"1e41b91f-f264-47d6-97cf-4100e3db07ab\",\"type\":\"Toolbar\"},\"x_range\":{\"id\":\"7d3a6de2-c547-4709-91fa-148ef06dbefb\",\"type\":\"DataRange1d\"},\"x_scale\":{\"id\":\"57c14ffe-3f02-4b88-a6e8-109f1a3617c7\",\"type\":\"LinearScale\"},\"y_range\":{\"id\":\"c1d35d06-f27e-409b-8809-86476b5af7be\",\"type\":\"DataRange1d\"},\"y_scale\":{\"id\":\"9d923bc9-9a64-4a5f-9f40-bd9a24e43e18\",\"type\":\"LinearScale\"}},\"id\":\"10e2b89d-3548-4a7f-ad48-860210e13fcc\",\"subtype\":\"Figure\",\"type\":\"Plot\"},{\"attributes\":{\"callback\":null},\"id\":\"c1d35d06-f27e-409b-8809-86476b5af7be\",\"type\":\"DataRange1d\"}],\"root_ids\":[\"10e2b89d-3548-4a7f-ad48-860210e13fcc\"]},\"title\":\"Bokeh Application\",\"version\":\"0.13.0\"}};\n",
       "  var render_items = [{\"docid\":\"0e3e1d68-10af-4bae-951b-bb3ca745206d\",\"roots\":{\"10e2b89d-3548-4a7f-ad48-860210e13fcc\":\"de125455-f1a4-4cf7-98c6-661e8b2cace7\"}}];\n",
       "  root.Bokeh.embed.embed_items_notebook(docs_json, render_items);\n",
       "\n",
       "  }\n",
       "  if (root.Bokeh !== undefined) {\n",
       "    embed_document(root);\n",
       "  } else {\n",
       "    var attempts = 0;\n",
       "    var timer = setInterval(function(root) {\n",
       "      if (root.Bokeh !== undefined) {\n",
       "        embed_document(root);\n",
       "        clearInterval(timer);\n",
       "      }\n",
       "      attempts++;\n",
       "      if (attempts > 100) {\n",
       "        console.log(\"Bokeh: ERROR: Unable to run BokehJS code because BokehJS library is missing\")\n",
       "        clearInterval(timer);\n",
       "      }\n",
       "    }, 10, root)\n",
       "  }\n",
       "})(window);"
      ],
      "application/vnd.bokehjs_exec.v0+json": ""
     },
     "metadata": {
      "application/vnd.bokehjs_exec.v0+json": {
       "id": "10e2b89d-3548-4a7f-ad48-860210e13fcc"
      }
     },
     "output_type": "display_data"
    }
   ],
   "source": [
    "p = figure(plot_width=400, plot_height=400)\n",
    "\n",
    "# add a line renderer\n",
    "p.line(x,y, line_width=2)\n",
    "\n",
    "show(p)"
   ]
  }
 ],
 "metadata": {
  "kernelspec": {
   "display_name": "Python [default]",
   "language": "python",
   "name": "python3"
  },
  "language_info": {
   "codemirror_mode": {
    "name": "ipython",
    "version": 3
   },
   "file_extension": ".py",
   "mimetype": "text/x-python",
   "name": "python",
   "nbconvert_exporter": "python",
   "pygments_lexer": "ipython3",
   "version": "3.6.3"
  }
 },
 "nbformat": 4,
 "nbformat_minor": 2
}
