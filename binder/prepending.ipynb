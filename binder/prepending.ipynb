{
 "cells": [
  {
   "cell_type": "markdown",
   "metadata": {},
   "source": [
    "# Example of prepending to a zarr without having to re-write the chunks"
   ]
  },
  {
   "cell_type": "code",
   "execution_count": 1,
   "metadata": {},
   "outputs": [],
   "source": [
    "from rolling_zarr_array_store import OffsetArrayStoreMixin, CHUNK_REGEX\n",
    "import numpy as np\n",
    "import zarr\n",
    "import json"
   ]
  },
  {
   "cell_type": "code",
   "execution_count": 2,
   "metadata": {},
   "outputs": [],
   "source": [
    "class Store(OffsetArrayStoreMixin, dict):\n",
    "    pass"
   ]
  },
  {
   "cell_type": "markdown",
   "metadata": {},
   "source": [
    "Create a store with the values 0-4, shape=(5,) chunks=(1,)"
   ]
  },
  {
   "cell_type": "code",
   "execution_count": 3,
   "metadata": {},
   "outputs": [
    {
     "data": {
      "text/plain": [
       "array([0., 1., 2., 3., 4.])"
      ]
     },
     "execution_count": 3,
     "metadata": {},
     "output_type": "execute_result"
    }
   ],
   "source": [
    "store = Store(cache_offset=False)\n",
    "\n",
    "data = zarr.zeros(shape=(5,), store=store, chunks=[1])\n",
    "data[:] = np.linspace(0,4,5)\n",
    "data[:]"
   ]
  },
  {
   "cell_type": "markdown",
   "metadata": {},
   "source": [
    "Take a look at how that chunk data is stored in the store"
   ]
  },
  {
   "cell_type": "code",
   "execution_count": 4,
   "metadata": {},
   "outputs": [
    {
     "name": "stdout",
     "output_type": "stream",
     "text": [
      "key\tvalue\n",
      "0\t[0.]\n",
      "1\t[1.]\n",
      "2\t[2.]\n",
      "3\t[3.]\n",
      "4\t[4.]\n"
     ]
    }
   ],
   "source": [
    "print(\"key\\tvalue\")\n",
    "for k,v in ((k,v) for k,v in store.items() if CHUNK_REGEX.match(k)):\n",
    "    print(f\"{k}\\t{data._decode_chunk(v)}\")"
   ]
  },
  {
   "cell_type": "markdown",
   "metadata": {},
   "source": [
    "Now we add an offset of -1. This effectivly shifts access such that axising index `1` gives `0`, `2` -> `1` etc allowing us to redefine what accessing `0` will give. We also resize the array as we are adding data. "
   ]
  },
  {
   "cell_type": "code",
   "execution_count": 5,
   "metadata": {},
   "outputs": [],
   "source": [
    "offset = [-1]\n",
    "store['.zattrs'] = json.dumps({'_offset': offset})\n",
    "\n",
    "val_to_prepend = np.array([-1.0])\n",
    "store['0'] = data._encode_chunk(val_to_prepend)\n",
    "data.resize(data.shape[0] + 1)\n"
   ]
  },
  {
   "cell_type": "markdown",
   "metadata": {},
   "source": [
    "Reopen the store as a zarr as our original zarr array has likely cached the data."
   ]
  },
  {
   "cell_type": "code",
   "execution_count": 6,
   "metadata": {},
   "outputs": [],
   "source": [
    "prepended = zarr.open(store)"
   ]
  },
  {
   "cell_type": "markdown",
   "metadata": {},
   "source": [
    "We have successfully prepended some data"
   ]
  },
  {
   "cell_type": "code",
   "execution_count": 7,
   "metadata": {},
   "outputs": [
    {
     "data": {
      "text/plain": [
       "array([-1.,  0.,  1.,  2.,  3.,  4.])"
      ]
     },
     "execution_count": 7,
     "metadata": {},
     "output_type": "execute_result"
    }
   ],
   "source": [
    "prepended[:]"
   ]
  },
  {
   "cell_type": "markdown",
   "metadata": {},
   "source": [
    "Note the original data hasn't moved in the store:"
   ]
  },
  {
   "cell_type": "code",
   "execution_count": 8,
   "metadata": {},
   "outputs": [
    {
     "name": "stdout",
     "output_type": "stream",
     "text": [
      "key\tvalue\n",
      "0\t[0.]\n",
      "1\t[1.]\n",
      "2\t[2.]\n",
      "3\t[3.]\n",
      "4\t[4.]\n",
      "-1\t[-1.]\n"
     ]
    }
   ],
   "source": [
    "print(\"key\\tvalue\")\n",
    "for k,v in ((k,v) for k,v in store.items() if CHUNK_REGEX.match(k)):\n",
    "    print(f\"{k}\\t{data._decode_chunk(v)}\")"
   ]
  }
 ],
 "metadata": {
  "kernelspec": {
   "display_name": "Python 3",
   "language": "python",
   "name": "python3"
  },
  "language_info": {
   "codemirror_mode": {
    "name": "ipython",
    "version": 3
   },
   "file_extension": ".py",
   "mimetype": "text/x-python",
   "name": "python",
   "nbconvert_exporter": "python",
   "pygments_lexer": "ipython3",
   "version": "3.7.2"
  }
 },
 "nbformat": 4,
 "nbformat_minor": 2
}
