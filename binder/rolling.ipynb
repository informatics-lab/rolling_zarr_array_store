{
 "cells": [
  {
   "cell_type": "code",
   "execution_count": 1,
   "metadata": {},
   "outputs": [],
   "source": [
    "from rolling_zarr_array_store import OffsetArrayStoreMixin\n",
    "import numpy as np\n",
    "import zarr\n",
    "import json\n",
    "import datetime"
   ]
  },
  {
   "cell_type": "code",
   "execution_count": 2,
   "metadata": {},
   "outputs": [],
   "source": [
    "class Store(OffsetArrayStoreMixin, dict):\n",
    "    pass"
   ]
  },
  {
   "cell_type": "code",
   "execution_count": 3,
   "metadata": {},
   "outputs": [],
   "source": [
    "store = Store(cache_offset=False)"
   ]
  },
  {
   "cell_type": "markdown",
   "metadata": {},
   "source": [
    "## Day 0\n",
    "Create an array of 'the next 5 days'"
   ]
  },
  {
   "cell_type": "code",
   "execution_count": 4,
   "metadata": {},
   "outputs": [
    {
     "data": {
      "text/plain": [
       "array(['2019-03-14', '2019-03-15', '2019-03-16', '2019-03-17',\n",
       "       '2019-03-18'], dtype='<U10')"
      ]
     },
     "execution_count": 4,
     "metadata": {},
     "output_type": "execute_result"
    }
   ],
   "source": [
    "dt_format=\"%Y-%m-%d\"\n",
    "next_5_days = [(datetime.datetime.now().date() + datetime.timedelta(days=i)).strftime(dt_format) for i in range(5)]\n",
    "data = zarr.array(np.array(next_5_days), chunks=(1,), store=store)\n",
    "data[:]"
   ]
  },
  {
   "cell_type": "markdown",
   "metadata": {},
   "source": [
    "# Subsequent days...\n",
    "\n",
    "By moving the offset forward by one and then appending a new date to the end we roll the zarr forward in time"
   ]
  },
  {
   "cell_type": "code",
   "execution_count": 5,
   "metadata": {},
   "outputs": [],
   "source": [
    "def progress_one_day(data):\n",
    "    current_end_date = datetime.datetime.strptime(str(data[-1]), \"%Y-%m-%d\").date()\n",
    "    next_end_date = current_end_date + datetime.timedelta(days=1)\n",
    "    \n",
    "    current_offset = json.loads(store.get('.zattrs','{}')).get('_offset', [0])\n",
    "    next_offset = [current_offset[0] +1]\n",
    "    \n",
    "    # move forward the offset then prepend the data\n",
    "    data.store['.zattrs'] = json.dumps({'_offset': next_offset})\n",
    "    data[-1] = next_end_date.strftime(dt_format)\n",
    "    \n",
    "    "
   ]
  },
  {
   "cell_type": "code",
   "execution_count": 6,
   "metadata": {},
   "outputs": [
    {
     "name": "stdout",
     "output_type": "stream",
     "text": [
      "Day 1:['2019-03-15' '2019-03-16' '2019-03-17' '2019-03-18' '2019-03-19']\n",
      "Day 2:['2019-03-16' '2019-03-17' '2019-03-18' '2019-03-19' '2019-03-20']\n",
      "Day 3:['2019-03-17' '2019-03-18' '2019-03-19' '2019-03-20' '2019-03-21']\n",
      "Day 4:['2019-03-18' '2019-03-19' '2019-03-20' '2019-03-21' '2019-03-22']\n",
      "Day 5:['2019-03-19' '2019-03-20' '2019-03-21' '2019-03-22' '2019-03-23']\n"
     ]
    }
   ],
   "source": [
    "for i in range(1, 6):\n",
    "    \n",
    "    progress_one_day(data)\n",
    "    data = zarr.open(store)\n",
    "    print(f\"Day {i}:{data[:]}\")"
   ]
  }
 ],
 "metadata": {
  "kernelspec": {
   "display_name": "Python 3",
   "language": "python",
   "name": "python3"
  },
  "language_info": {
   "codemirror_mode": {
    "name": "ipython",
    "version": 3
   },
   "file_extension": ".py",
   "mimetype": "text/x-python",
   "name": "python",
   "nbconvert_exporter": "python",
   "pygments_lexer": "ipython3",
   "version": "3.7.2"
  }
 },
 "nbformat": 4,
 "nbformat_minor": 2
}
